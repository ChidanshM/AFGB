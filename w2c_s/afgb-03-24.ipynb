{
 "cells": [
  {
   "cell_type": "markdown",
   "metadata": {},
   "source": [
    "# 03-PyPBA:\n",
    "## 24"
   ]
  },
  {
   "cell_type": "markdown",
   "metadata": {},
   "source": [
    "### 1\n",
    "Create a function that takes an integer and returns a list from 1 to the given number, where:\n",
    "* If the number can be divided evenly by 4, amplify it by 10 (i.e. return 10 times the number).\n",
    "* If the number cannot be divided evenly by 4, simply return the number.\n",
    "\n",
    "Examples\n",
    "\n",
    "\tamplify(4) ➞ [1, 2, 3, 40]\n",
    "\tamplify(3) ➞ [1, 2, 3]\n",
    "\tamplify(25) ➞ [1, 2, 3, 40, 5, 6, 7, 80, 9, 10, 11, 120, 13, 14, 15, 160, 17, 18, 19, 200, 21, 22, 23, 240, 25]\n",
    "\n",
    "Notes\\\n",
    "The given integer will always be equal to or greater than 1.\n",
    "Include the number (see example above).\n",
    "To perform this problem with its intended purpose, try doing it with list comprehensions. If that's too difficult, just solve the challenge any way you can."
   ]
  },
  {
   "cell_type": "code",
   "execution_count": null,
   "metadata": {},
   "outputs": [],
   "source": [
    "def amplify(n):\n",
    "\treturn [_*10 if _%4==0 else _ for _ in range(n+1)]"
   ]
  },
  {
   "cell_type": "code",
   "execution_count": null,
   "metadata": {},
   "outputs": [
    {
     "data": {
      "text/plain": [
       "[0, 1, 2, 3, 40]"
      ]
     },
     "metadata": {},
     "output_type": "display_data"
    },
    {
     "data": {
      "text/plain": [
       "[0, 1, 2, 3]"
      ]
     },
     "metadata": {},
     "output_type": "display_data"
    },
    {
     "data": {
      "text/plain": [
       "[0, 1, 2, 3, 40, 5, 6, 7, 80]"
      ]
     },
     "metadata": {},
     "output_type": "display_data"
    }
   ],
   "source": [
    "display(amplify(4),\n",
    "\tamplify(3),\n",
    "\tamplify(8))"
   ]
  },
  {
   "cell_type": "markdown",
   "metadata": {},
   "source": [
    "### 2\n",
    "Create a function that takes a list of numbers and return the number that's unique.\\\n",
    "Examples\n",
    "\n",
    "\tunique([3, 3, 3, 7, 3, 3]) ➞ 7\n",
    "\tunique([0, 0, 0.77, 0, 0]) ➞ 0.77\n",
    "\tunique([0, 1, 1, 1, 1, 1, 1, 1]) ➞ 0\n",
    "Notes:Test cases will always have exactly one unique number while all others are the same."
   ]
  },
  {
   "cell_type": "code",
   "execution_count": null,
   "metadata": {},
   "outputs": [],
   "source": [
    "def unique(l):\n",
    "\ts=set(l);[l.remove(_) for _ in s]\n",
    "\treturn [*(s-set(l))][0]"
   ]
  },
  {
   "cell_type": "code",
   "execution_count": null,
   "metadata": {},
   "outputs": [
    {
     "data": {
      "text/plain": [
       "7"
      ]
     },
     "metadata": {},
     "output_type": "display_data"
    },
    {
     "data": {
      "text/plain": [
       "0.77"
      ]
     },
     "metadata": {},
     "output_type": "display_data"
    },
    {
     "data": {
      "text/plain": [
       "0"
      ]
     },
     "metadata": {},
     "output_type": "display_data"
    }
   ],
   "source": [
    "display(unique([3, 3, 3, 7, 3, 3]),\n",
    "\tunique([0, 0, 0.77, 0, 0]),\n",
    "\tunique([0, 1, 1, 1, 1, 1, 1, 1]))"
   ]
  },
  {
   "cell_type": "markdown",
   "metadata": {},
   "source": [
    "### 3.\n",
    "Your task is to create a Circle constructor that creates a circle with a radius provided by an argument. The circles constructed must have two getters `getArea() (PIr^2)` and `getPerimeter() (2PI*r)` which give both respective areas and perimeter (circumference).\n",
    "For help with this class, I have provided you with a Rectangle constructor which you can use as a base example.\\\n",
    "Examples\n",
    "\n",
    "\tcircy = Circle(11)\n",
    "\tcircy.getArea()\n",
    "\t# Should return 380.132711084365\n",
    "\tcircy = Circle(4.44)\n",
    "\tcircy.getPerimeter()\n",
    "\t# Should return 27.897342763877365\n",
    "Notes:Round results up to the nearest integer."
   ]
  },
  {
   "cell_type": "code",
   "execution_count": null,
   "metadata": {},
   "outputs": [],
   "source": [
    "from  math import pi\n",
    "class Circle():\n",
    "\tdef __init__(self,r):\n",
    "\t\tself.r=r\n",
    "\t\n",
    "\tdef getArea(self):\n",
    "\t\treturn pi*self.r*self.r\n",
    "\t\n",
    "\tdef getPerimeter(self):\n",
    "\t\treturn pi*self.r*2"
   ]
  },
  {
   "cell_type": "code",
   "execution_count": null,
   "metadata": {},
   "outputs": [
    {
     "name": "stdout",
     "output_type": "stream",
     "text": [
      "380.1327110843649\n",
      "27.897342763877365\n"
     ]
    }
   ],
   "source": [
    "circy = Circle(11)\n",
    "print(circy.getArea())\n",
    "# Should return 380.132711084365\n",
    "circy = Circle(4.44)\n",
    "print(circy.getPerimeter())\n",
    "# Should return 27.897342763877365"
   ]
  },
  {
   "cell_type": "markdown",
   "metadata": {},
   "source": [
    "### 4.\n",
    "Create a function that takes a list of strings and return a list, sorted from shortest to longest.\\\n",
    "Examples\n",
    "\n",
    "\tsort_by_length([\"Google\", \"Apple\", \"Microsoft\"]) ➞ [\"Apple\", \"Google\", \"Microsoft\"]\n",
    "\n",
    "\tsort_by_length([\"Leonardo\", \"Michelangelo\", \"Raphael\", \"Donatello\"]) ➞ [\"Raphael\", \"Leonardo\", \"Donatello\", \"Michelangelo\"]\n",
    "\n",
    "\tsort_by_length([\"Turing\", \"Einstein\", \"Jung\"]) ➞ [\"Jung\", \"Turing\", \"Einstein\"]\n",
    "\n",
    "Notes:All test cases contain lists with strings of different lengths, so you won't have to deal with multiple strings of the same length."
   ]
  },
  {
   "cell_type": "code",
   "execution_count": null,
   "metadata": {},
   "outputs": [],
   "source": [
    "def sort_by_length(l):\n",
    "    return sorted(l,key=lambda x: len(x))"
   ]
  },
  {
   "cell_type": "code",
   "execution_count": null,
   "metadata": {},
   "outputs": [
    {
     "data": {
      "text/plain": [
       "['Apple', 'Google', 'Microsoft']"
      ]
     },
     "metadata": {},
     "output_type": "display_data"
    },
    {
     "data": {
      "text/plain": [
       "['Raphael', 'Leonardo', 'Donatello', 'Michelangelo']"
      ]
     },
     "metadata": {},
     "output_type": "display_data"
    },
    {
     "data": {
      "text/plain": [
       "['Jung', 'Turing', 'Einstein']"
      ]
     },
     "metadata": {},
     "output_type": "display_data"
    }
   ],
   "source": [
    "display(sort_by_length([\"Google\", \"Apple\", \"Microsoft\"]),\n",
    "\tsort_by_length([\"Leonardo\", \"Michelangelo\", \"Raphael\", \"Donatello\"]),\n",
    "\tsort_by_length([\"Turing\", \"Einstein\", \"Jung\"]))"
   ]
  },
  {
   "cell_type": "markdown",
   "metadata": {},
   "source": [
    "### 5.\n",
    "Create a function that validates whether three given integers form a Pythagorean triplet. The sum of the squares of the two smallest integers must equal the square of the largest number to be validated.\\\n",
    "Examples:\n",
    "\n",
    "\tis_triplet(3, 4, 5) ➞ True\n",
    "\t# 3² + 4² = 25\n",
    "\t# 5² = 25\n",
    "\n",
    "\tis_triplet(13, 5, 12) ➞ True\n",
    "\t# 5² + 12² = 169\n",
    "\t# 13² = 169\n",
    "\n",
    "\tis_triplet(1, 2, 3) ➞ False\n",
    "\t# 1² + 2² = 5\n",
    "\t# 3² = 9\n",
    "Notes: Numbers may not be given in a sorted order."
   ]
  },
  {
   "cell_type": "code",
   "execution_count": null,
   "metadata": {},
   "outputs": [],
   "source": [
    "def is_triplet(*l):\n",
    "\tl=sorted(l)\n",
    "\treturn l[0]**2 + l[1]**2 == l[2]**2"
   ]
  },
  {
   "cell_type": "code",
   "execution_count": null,
   "metadata": {},
   "outputs": [
    {
     "data": {
      "text/plain": [
       "True"
      ]
     },
     "metadata": {},
     "output_type": "display_data"
    },
    {
     "data": {
      "text/plain": [
       "True"
      ]
     },
     "metadata": {},
     "output_type": "display_data"
    },
    {
     "data": {
      "text/plain": [
       "False"
      ]
     },
     "metadata": {},
     "output_type": "display_data"
    }
   ],
   "source": [
    "display(is_triplet(3, 4, 5),\n",
    "\tis_triplet(13, 5, 12),\n",
    "\tis_triplet(1, 2, 3))"
   ]
  }
 ],
 "metadata": {
  "kernelspec": {
   "display_name": "Python 3",
   "language": "python",
   "name": "python3"
  },
  "language_info": {
   "codemirror_mode": {
    "name": "ipython",
    "version": 3
   },
   "file_extension": ".py",
   "mimetype": "text/x-python",
   "name": "python",
   "nbconvert_exporter": "python",
   "pygments_lexer": "ipython3",
   "version": "3.9.18"
  }
 },
 "nbformat": 4,
 "nbformat_minor": 2
}
