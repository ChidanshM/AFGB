{
 "cells": [
  {
   "cell_type": "markdown",
   "metadata": {},
   "source": [
    "# 03-PyPBA:\n",
    "## 14"
   ]
  },
  {
   "cell_type": "markdown",
   "metadata": {},
   "source": [
    "### 1. Define a class with a generator which can iterate the numbers, which are divisible by 7, between a given range 0 and n."
   ]
  },
  {
   "cell_type": "code",
   "execution_count": 1,
   "metadata": {},
   "outputs": [],
   "source": [
    "class iter7mult:\n",
    "\tdef __init__(self,n):\n",
    "\t\tself.n = n\n",
    "\t\n",
    "\tdef generator(self):\n",
    "\t\tfor num in range(self.n + 1):\n",
    "\t\t\tif num % 7 == 0:\n",
    "\t\t\t\tyield(num)\n",
    "\t\t\t\t\t"
   ]
  },
  {
   "cell_type": "code",
   "execution_count": 2,
   "metadata": {},
   "outputs": [
    {
     "name": "stdout",
     "output_type": "stream",
     "text": [
      "0\n",
      "7\n",
      "14\n",
      "21\n",
      "28\n",
      "35\n",
      "42\n",
      "49\n",
      "56\n",
      "63\n",
      "70\n"
     ]
    }
   ],
   "source": [
    "test=iter7mult(73)\n",
    "for _ in test.generator():\n",
    "\tprint(_)"
   ]
  },
  {
   "cell_type": "markdown",
   "metadata": {},
   "source": [
    "### 2. Write a program to compute the frequency of the words from the input. The output should output after sorting the key alphanumerically.\n",
    "\n",
    "Suppose the following input is supplied to the program:\n",
    "```\n",
    "New to Python or choosing between Python 2 and Python 3? Read Python 2 or Python 3.\n",
    "```\n",
    "Then, the output should be:\n",
    "```\n",
    "2:2\n",
    "3.:1\n",
    "3?:1\n",
    "New:1\n",
    "Python:5\n",
    "Read:1\n",
    "and:1\n",
    "between:1\n",
    "choosing:1\n",
    "or:2\n",
    "to:1\n",
    "```"
   ]
  },
  {
   "cell_type": "code",
   "execution_count": 3,
   "metadata": {},
   "outputs": [],
   "source": [
    "def smth(s):\n",
    "\tl=s.split(' ')\n",
    "\treturn [(_,l.count(_))for _ in  sorted(set(l))]"
   ]
  },
  {
   "cell_type": "code",
   "execution_count": 4,
   "metadata": {},
   "outputs": [
    {
     "name": "stdout",
     "output_type": "stream",
     "text": [
      "2:2\n",
      "3.:1\n",
      "3?:1\n",
      "New:1\n",
      "Python:5\n",
      "Read:1\n",
      "and:1\n",
      "between:1\n",
      "choosing:1\n",
      "or:2\n",
      "to:1\n"
     ]
    }
   ],
   "source": [
    "s=\"New to Python or choosing between Python 2 and Python 3? Read Python 2 or Python 3.\"\n",
    "for (_,c) in smth(s):\n",
    "\tprint(f'{_}:{c}')"
   ]
  },
  {
   "cell_type": "markdown",
   "metadata": {},
   "source": [
    "### 3. Define a class Person and its two child classes: Male and Female. All classes have a method \"getGender\" which can print \"Male\" for Male class and \"Female\" for Female class."
   ]
  },
  {
   "cell_type": "code",
   "execution_count": 5,
   "metadata": {},
   "outputs": [],
   "source": [
    "class Person:\n",
    "    def getGender(self):\n",
    "        pass  # Abstract method to be overridden by child classes\n",
    "\n",
    "class Male(Person):\n",
    "    def getGender(self):\n",
    "        return \"Male\"\n",
    "\n",
    "class Female(Person):\n",
    "    def getGender(self):\n",
    "        return \"Female\""
   ]
  },
  {
   "cell_type": "code",
   "execution_count": 6,
   "metadata": {},
   "outputs": [],
   "source": [
    "male_person = Male()\n",
    "female_person = Female()"
   ]
  },
  {
   "cell_type": "code",
   "execution_count": 7,
   "metadata": {},
   "outputs": [
    {
     "name": "stdout",
     "output_type": "stream",
     "text": [
      "Male's gender: Male\n",
      "Female's gender: Female\n"
     ]
    }
   ],
   "source": [
    "print(\"Male's gender:\", male_person.getGender())\n",
    "print(\"Female's gender:\", female_person.getGender())"
   ]
  },
  {
   "cell_type": "markdown",
   "metadata": {},
   "source": [
    "### 4. Please write a program to generate all sentences where subject is in `[\"I\", \"You\"]` and verb is in `[\"Play\", \"Love\"]` and the object is in `[\"Hockey\",\"Football\"]`."
   ]
  },
  {
   "cell_type": "code",
   "execution_count": 8,
   "metadata": {},
   "outputs": [
    {
     "name": "stdout",
     "output_type": "stream",
     "text": [
      "I Play Hockey.\n",
      "I Play Football.\n",
      "I Love Hockey.\n",
      "I Love Football.\n",
      "You Play Hockey.\n",
      "You Play Football.\n",
      "You Love Hockey.\n",
      "You Love Football.\n"
     ]
    }
   ],
   "source": [
    "subjects = [\"I\", \"You\"]\n",
    "verbs = [\"Play\", \"Love\"]\n",
    "objects = [\"Hockey\", \"Football\"]\n",
    "\n",
    "sentences = []\n",
    "for subject in subjects:\n",
    "    for verb in verbs:\n",
    "        for obj in objects:\n",
    "            sentence = f\"{subject} {verb} {obj}.\"\n",
    "            sentences.append(sentence)\n",
    "\n",
    "for _ in sentences:\n",
    "    print(_)"
   ]
  },
  {
   "cell_type": "markdown",
   "metadata": {},
   "source": [
    "### 5. Please write a program to compress and decompress the string \"hello world!hello world!hello world!hello world!\"."
   ]
  },
  {
   "cell_type": "code",
   "execution_count": 9,
   "metadata": {},
   "outputs": [
    {
     "name": "stdout",
     "output_type": "stream",
     "text": [
      "Original String: hello world!hello world!hello world!hello world!\n",
      "Compressed Data: b'x\\x9c\\xf3K-W(\\xc9W\\x08\\xa8,\\xc9\\xc8\\xcfS\\xc8/RH\\xce\\xc8\\xcf/\\xce\\xccKWHJ-)OM\\xcd\\x83I\\x19)$\\xe6\\xa5\\xc08\\xc6\\xf6\\nA\\xa9\\x89)\\x089\\xa0F\\x98\\x94\\x1e\\x00\\xd4\\x9c\\x1c\\x84'\n",
      "Decompressed String: New to Python or choosing between Python 2 and Python 3? Read Python 2 or Python 3.\n"
     ]
    }
   ],
   "source": [
    "import zlib\n",
    "\n",
    "original_string = 'hello world!hello world!hello world!hello world!'\n",
    "bt = bytes(s, 'utf-8')\n",
    "compressed_data = zlib.compress(bt)\n",
    "decompressed_string=zlib.decompress(compressed_data).decode('utf-8')\n",
    "\n",
    "print(\"Original String:\", original_string)\n",
    "print(\"Compressed Data:\",compressed_data)\n",
    "print(\"Decompressed String:\",decompressed_string)\n"
   ]
  },
  {
   "cell_type": "markdown",
   "metadata": {},
   "source": [
    "### 6. Please write a binary search function which searches an item in a sorted list. The function should return the index of element to be searched in the list."
   ]
  },
  {
   "cell_type": "code",
   "execution_count": 10,
   "metadata": {},
   "outputs": [],
   "source": [
    "def binary_search(sorted_list, target):\n",
    "    left, right = 0, len(sorted_list) - 1\n",
    "\n",
    "    while left <= right:\n",
    "        mid = (left + right) // 2\n",
    "        mid_value = sorted_list[mid]\n",
    "\n",
    "        if mid_value == target:\n",
    "            return mid \n",
    "        elif mid_value < target:\n",
    "            left = mid + 1\n",
    "        else:\n",
    "            right = mid - 1\n",
    "\n",
    "    return -1 "
   ]
  },
  {
   "cell_type": "code",
   "execution_count": 11,
   "metadata": {},
   "outputs": [
    {
     "name": "stdout",
     "output_type": "stream",
     "text": [
      "Element 5 found at index 4.\n"
     ]
    }
   ],
   "source": [
    "sorted_list = [0, 1, 2, 3, 5, 6, 7, 8, 9, 10]\n",
    "target_element = 5\n",
    "\n",
    "result = binary_search(sorted_list, target_element)\n",
    "\n",
    "if result != -1:\n",
    "    print(f\"Element {target_element} found at index {result}.\")\n",
    "else:\n",
    "    print(f\"Element {target_element} not found in the list.\")\n"
   ]
  }
 ],
 "metadata": {
  "kernelspec": {
   "display_name": "Python 3",
   "language": "python",
   "name": "python3"
  },
  "language_info": {
   "codemirror_mode": {
    "name": "ipython",
    "version": 3
   },
   "file_extension": ".py",
   "mimetype": "text/x-python",
   "name": "python",
   "nbconvert_exporter": "python",
   "pygments_lexer": "ipython3",
   "version": "3.9.18"
  }
 },
 "nbformat": 4,
 "nbformat_minor": 2
}
