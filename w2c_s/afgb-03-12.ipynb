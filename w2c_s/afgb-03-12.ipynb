{
	"cells": [
	 {
	  "cell_type": "markdown",
	  "metadata": {},
	  "source": [
	   "# 03-PyPBA:\n",
	   "## 12"
	  ]
	 },
	 {
	  "cell_type": "markdown",
	  "metadata": {},
	  "source": [
	   "### 1. Write a Python program to Extract Unique values dictionary values?"
	  ]
	 },
	 {
	  "cell_type": "code",
	  "execution_count": 1,
	  "metadata": {},
	  "outputs": [],
	  "source": [
	   "def uniqDictVal(kv):\n",
	   "  return set(kv.values())"
	  ]
	 },
	 {
	  "cell_type": "code",
	  "execution_count": 2,
	  "metadata": {},
	  "outputs": [
	   {
		"data": {
		 "text/plain": [
		  "{1, 2, 3, 5, 6}"
		 ]
		},
		"execution_count": 2,
		"metadata": {},
		"output_type": "execute_result"
	   }
	  ],
	  "source": [
	   "dy={1:2,2:3,3:3,4:5,5:6,6:5,7:1}\n",
	   "uniqDictVal(dy)"
	  ]
	 },
	 {
	  "cell_type": "markdown",
	  "metadata": {},
	  "source": [
	   "### 2. Write a Python program to find the sum of all items in a dictionary?"
	  ]
	 },
	 {
	  "cell_type": "code",
	  "execution_count": 3,
	  "metadata": {},
	  "outputs": [],
	  "source": [
	   "def sumOfDictItems(kv):\n",
	   "  return sum(v for v in kv.values() if isinstance(v,(int,float)))+sum(k for k in kv.keys() if isinstance(k,(int,float)))"
	  ]
	 },
	 {
	  "cell_type": "code",
	  "execution_count": 4,
	  "metadata": {},
	  "outputs": [
	   {
		"data": {
		 "text/plain": [
		  "53"
		 ]
		},
		"execution_count": 4,
		"metadata": {},
		"output_type": "execute_result"
	   }
	  ],
	  "source": [
	   "dy={1:2,2:3,3:3,4:5,5:6,6:5,7:1}\n",
	   "sumOfDictItems(dy)"
	  ]
	 },
	 {
	  "cell_type": "markdown",
	  "metadata": {},
	  "source": [
	   "### 3. Write a Python program to Merging two Dictionaries?"
	  ]
	 },
	 {
	  "cell_type": "code",
	  "execution_count": 5,
	  "metadata": {},
	  "outputs": [],
	  "source": [
	   "def mergeDict(kv1,kv2):\n",
	   "  return {**kv1, **kv2}"
	  ]
	 },
	 {
	  "cell_type": "code",
	  "execution_count": 6,
	  "metadata": {},
	  "outputs": [
	   {
		"data": {
		 "text/plain": [
		  "{1: 4, 2: 3, 3: 2, 4: 5, 5: 7, 6: 5, 7: 0, 9: 20}"
		 ]
		},
		"execution_count": 6,
		"metadata": {},
		"output_type": "execute_result"
	   }
	  ],
	  "source": [
	   "mergeDict(dy,{1:4,3:2,5:7,9:20,7:0})"
	  ]
	 },
	 {
	  "cell_type": "markdown",
	  "metadata": {},
	  "source": [
	   "### 4. Write a Python program to convert key-values list to flat dictionary?\n"
	  ]
	 },
	 {
	  "cell_type": "code",
	  "execution_count": 7,
	  "metadata": {},
	  "outputs": [],
	  "source": [
	   "def _2FlatDict(li,prefix=''):\n",
	   "  fd={}\n",
	   "  for k,v in li:\n",
	   "    current_key= f\"{prefix}{k}\"\n",
	   "    if isinstance(v,list) and any(isinstance(o,(list,tuple)) for o in v):\n",
	   "      fd.update(_2FlatDict(v,f\"{current_key}.\"))\n",
	   "    else:\n",
	   "      fd[current_key]=v\n",
	   "  return fd"
	  ]
	 },
	 {
	  "cell_type": "code",
	  "execution_count": 8,
	  "metadata": {},
	  "outputs": [
	   {
		"data": {
		 "text/plain": [
		  "{'1': 'uno', '2': 'dos', '3.1': 'tres', '3.2': 'three', '4': 'four'}"
		 ]
		},
		"execution_count": 8,
		"metadata": {},
		"output_type": "execute_result"
	   }
	  ],
	  "source": [
	   "b=[(1,\"uno\"),(2,\"dos\"),(3,[(1,\"tres\"),(2,\"three\")]),[4,(\"four\")]]\n",
	   "_2FlatDict(b)"
	  ]
	 },
	 {
	  "cell_type": "markdown",
	  "metadata": {},
	  "source": [
	   "### 5. Write a Python program to insertion at the beginning in OrderedDict?"
	  ]
	 },
	 {
	  "cell_type": "code",
	  "execution_count": 9,
	  "metadata": {},
	  "outputs": [],
	  "source": [
	   "from collections import OrderedDict as od"
	  ]
	 },
	 {
	  "cell_type": "code",
	  "execution_count": 10,
	  "metadata": {},
	  "outputs": [],
	  "source": [
	   "def inAtFront(ordi,kv):\n",
	   "  for _ in list(kv.keys())[::-1]:\n",
	   "    ordi[_] = kv[_]\n",
	   "    ordi.move_to_end(_,last=False)\n",
	   "\n",
	   "  return ordi"
	  ]
	 },
	 {
	  "cell_type": "code",
	  "execution_count": 11,
	  "metadata": {},
	  "outputs": [
	   {
		"data": {
		 "text/plain": [
		  "OrderedDict([('a', 1),\n",
		  "             ('b', 'beeee'),\n",
		  "             (1, 2),\n",
		  "             (2, 3),\n",
		  "             (3, 3),\n",
		  "             (4, 5),\n",
		  "             (5, 6),\n",
		  "             (6, 5),\n",
		  "             (7, 1)])"
		 ]
		},
		"execution_count": 11,
		"metadata": {},
		"output_type": "execute_result"
	   }
	  ],
	  "source": [
	   "inAtFront(od(dy),{\"a\":1,\"b\":\"beeee\"})"
	  ]
	 },
	 {
	  "cell_type": "markdown",
	  "metadata": {},
	  "source": [
	   "### 6. Write a Python program to check order of character in string using OrderedDict()?"
	  ]
	 },
	 {
	  "cell_type": "code",
	  "execution_count": 12,
	  "metadata": {},
	  "outputs": [],
	  "source": [
	   "from collections import OrderedDict\n",
	   "\n",
	   "def check_order(input_string, pattern):\n",
	   "  last_occurrence_index = OrderedDict()\n",
	   "  for char in input_string:\n",
	   "    last_occurrence_index[char] = last_occurrence_index.get(char, len(last_occurrence_index))\n",
	   "\n",
	   "  pattern_index = 0\n",
	   "\n",
	   "  for char in input_string:\n",
	   "    if char == pattern[pattern_index]:\n",
	   "      pattern_index += 1\n",
	   "\n",
	   "    if pattern_index == len(pattern):\n",
	   "      return True\n",
	   "\n",
	   "  return False\n"
	  ]
	 },
	 {
	  "cell_type": "code",
	  "execution_count": 13,
	  "metadata": {},
	  "outputs": [
	   {
		"data": {
		 "text/plain": [
		  "True"
		 ]
		},
		"execution_count": 13,
		"metadata": {},
		"output_type": "execute_result"
	   }
	  ],
	  "source": [
	   "check_order(\"String one\",\"ri\")"
	  ]
	 },
	 {
	  "cell_type": "markdown",
	  "metadata": {},
	  "source": [
	   "### 7. Write a Python program to sort Python Dictionaries by Key or Value?\n",
	   "\n"
	  ]
	 },
	 {
	  "cell_type": "code",
	  "execution_count": 14,
	  "metadata": {},
	  "outputs": [],
	  "source": [
	   "def sortDict(kv={},sortby=\"k\"):\n",
	   "  kvi=list(kv.items())\n",
	   "  if sortby == \"k\":\n",
	   "    kvi.sort(key=lambda i:i[0])\n",
	   "  else:\n",
	   "    kvi.sort(key=lambda i:i[1])\n",
	   "\n",
	   "  return {k:v for (k,v) in kvi}"
	  ]
	 },
	 {
	  "cell_type": "code",
	  "execution_count": 15,
	  "metadata": {},
	  "outputs": [
	   {
		"data": {
		 "text/plain": [
		  "({1: 2, 2: 0, 3: 6, 4: 2, 5: 4}, {2: 0, 1: 2, 4: 2, 5: 4, 3: 6})"
		 ]
		},
		"execution_count": 15,
		"metadata": {},
		"output_type": "execute_result"
	   }
	  ],
	  "source": [
	   "kv={1:2,2:0,5:4,3:6,4:2}\n",
	   "sortDict(kv=kv),sortDict(kv,\"v\")\n",
	   "# output:({1:2, 2:0, 3:6, 4:2, 5:4}, {2:0, 1:2, 4:2, 5:4, 3:6})\n",
	   "# this only works for python 3.6+"
	  ]
	 }
	],
	"metadata": {
	 "kernelspec": {
	  "display_name": "Python 3",
	  "language": "python",
	  "name": "python3"
	 },
	 "language_info": {
	  "codemirror_mode": {
	   "name": "ipython",
	   "version": 3
	  },
	  "file_extension": ".py",
	  "mimetype": "text/x-python",
	  "name": "python",
	  "nbconvert_exporter": "python",
	  "pygments_lexer": "ipython3",
	  "version": "3.9.18"
	 }
	},
	"nbformat": 4,
	"nbformat_minor": 2
   }
   