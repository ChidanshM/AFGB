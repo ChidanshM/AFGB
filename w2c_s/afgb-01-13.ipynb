{
	"cells": [
		{
			"cell_type": "markdown",
			"metadata": {},
			"source": [
				"# 01-PyBA: \n",
				"## 13"
			]
		},
		{
			"cell_type": "markdown",
			"metadata": {},
			"source": [
				"### 1. What advantages do Excel spreadsheets have over CSV spreadsheets?\n",
				"Formatting, Multiple Sheets, Cell Types, custom formulas, graphs and many more.\n",
				"___\n",
				"\n",
				"\n",
				"### 2. What do you pass to `csv.reader()` and `csv.writer()` to create reader and writer objects?\n",
				"Pass a File object opened in the appropriate mode to create reader and writer objects using `csv.reader()` and `csv.writer()`\n",
				"```python\n",
				"import csv\n",
				"\n",
				"with open('example.csv', 'r') as file:\n",
				"    reader = csv.reader(file)\n",
				"\n",
				"with open('example.csv', 'w', newline='') as file:\n",
				"    writer = csv.writer(file)\n",
				"```\n",
				"___\n",
				"\n",
				"\n",
				"### 3. What modes do File objects for reader and writer objects need to be opened in?\n",
				"- For reader objects the file should be opened in text mode (`'r'`).\n",
				"- For writer objects the file should be opened in text mode (`'w'`).\n",
				"___\n",
				"\n",
				"\n",
				"### 4. What method takes a list argument and writes it to a CSV file?\n",
				"`writerow()` method of a `csv.writer` object\n",
				"___\n",
				"\n",
				"\n",
				"### 5. What do the keyword arguments `delimiter` and `lineterminator` do?\n",
				"- `delimiter`: It specifies the character used to separate fields in a CSV file. By default delimiter is a comma (`,`).\n",
				"\n",
				"- `lineterminator`: It specifies the character used to terminate lines in a CSV file. By default line terminator is the newline character (`\\n`).\n",
				"___\n",
				"\n",
				"\n",
				"### 6. What function takes a string of JSON data and returns a Python data structure?\n",
				"`json.loads()`\n",
				"___\n",
				"\n",
				"### 7. What function takes a Python data structure and returns string of JSON data?\n",
				"`json.dumps()`"
			]
		}
	],
	"metadata": {
		"kernelspec": {
			"display_name": "Python 3",
			"name": "python3"
		},
		"language_info": {
			"name": "python"
		}
	},
	"nbformat": 4,
	"nbformat_minor": 0
}
