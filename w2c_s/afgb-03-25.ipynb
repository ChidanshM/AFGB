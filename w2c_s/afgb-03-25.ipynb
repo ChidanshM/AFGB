{
 "cells": [
  {
   "cell_type": "markdown",
   "metadata": {},
   "source": [
    "# 03-PyPBA:\n",
    "## 25"
   ]
  },
  {
   "cell_type": "markdown",
   "metadata": {},
   "source": [
    "### 1.\n",
    "Create a function that takes three integer arguments (a, b, c) and returns the amount of integers which are of equal value.\\\n",
    "Examples\n",
    "\n",
    "\tequal(3, 4, 3),# ➞ 2\n",
    "\tequal(1, 1, 1),# ➞ 3\n",
    "\tequal(3, 4, 1) # ➞ 0\n",
    "Notes:Your function must return 0, 2 or 3."
   ]
  },
  {
   "cell_type": "code",
   "execution_count": 15,
   "metadata": {},
   "outputs": [],
   "source": [
    "def equal(*l):\n",
    "\td={1:3,2:2,3:0}\n",
    "\t\"\"\"if 3 equals then set size 1\n",
    "\tif 2 equals then set size 2\n",
    "\tif 0 equals then set size 3\"\"\"\n",
    "\treturn d[len(set(l))]\n"
   ]
  },
  {
   "cell_type": "code",
   "execution_count": 14,
   "metadata": {},
   "outputs": [
    {
     "data": {
      "text/plain": [
       "2"
      ]
     },
     "metadata": {},
     "output_type": "display_data"
    },
    {
     "data": {
      "text/plain": [
       "3"
      ]
     },
     "metadata": {},
     "output_type": "display_data"
    },
    {
     "data": {
      "text/plain": [
       "0"
      ]
     },
     "metadata": {},
     "output_type": "display_data"
    }
   ],
   "source": [
    "display(equal(3, 4, 3),# ➞ 2\n",
    "  equal(1, 1, 1),# ➞ 3\n",
    "  equal(3, 4, 1) # ➞ 0\t\n",
    ")"
   ]
  },
  {
   "cell_type": "markdown",
   "metadata": {},
   "source": [
    "### 2.\n",
    "Write a function that converts a dictionary into a list of keys-values tuples.\\\n",
    "Examples\n",
    "\n",
    "\tdict_to_list({ \"D\": 1,\"B\": 2,\"C\": 3}) ➞ [(\"B\", 2), (\"C\", 3), (\"D\", 1)]\n",
    "\tdict_to_list({\"likes\": 2,\"dislikes\": 3,\"followers\": 10}) ➞ [(\"dislikes\", 3), (\"followers\", 10), (\"likes\", 2)]\n",
    "Notes: Return the elements in the list in alphabetical order."
   ]
  },
  {
   "cell_type": "code",
   "execution_count": 18,
   "metadata": {},
   "outputs": [],
   "source": [
    "def dict_to_list(d):\n",
    "    return list(d.items())"
   ]
  },
  {
   "cell_type": "code",
   "execution_count": 20,
   "metadata": {},
   "outputs": [
    {
     "data": {
      "text/plain": [
       "[('D', 1), ('B', 2), ('C', 3)]"
      ]
     },
     "metadata": {},
     "output_type": "display_data"
    },
    {
     "data": {
      "text/plain": [
       "[('likes', 2), ('dislikes', 3), ('followers', 10)]"
      ]
     },
     "metadata": {},
     "output_type": "display_data"
    }
   ],
   "source": [
    "display(dict_to_list({ \"D\": 1,\"B\": 2,\"C\": 3}),# ➞ [(\"B\", 2), (\"C\", 3), (\"D\", 1)]\n",
    "\tdict_to_list({\"likes\": 2,\"dislikes\": 3,\"followers\": 10})# ➞ [(\"dislikes\", 3), (\"followers\", 10), (\"likes\", 2)]\n",
    "  )"
   ]
  },
  {
   "cell_type": "markdown",
   "metadata": {},
   "source": [
    "### 3.\n",
    "Write a function that creates a dictionary with each (key, value) pair being the (lower case, upper case) versions of a letter, respectively.\\\n",
    "Examples\n",
    "\t\n",
    "\tmapping([\"p\", \"s\"]),# ➞ { \"p\": \"P\", \"s\": \"S\" }\n",
    "\tmapping([\"a\", \"b\", \"c\"]),# ➞ { \"a\": \"A\", \"b\": \"B\", \"c\": \"C\" }\n",
    "\tmapping([\"a\", \"v\", \"y\", \"z\"])# ➞ { \"a\": \"A\", \"v\": \"V\", \"y\": \"Y\", \"z\": \"Z\" }\n",
    "Notes: All of the letters in the input list will always be lowercase."
   ]
  },
  {
   "cell_type": "code",
   "execution_count": 21,
   "metadata": {},
   "outputs": [],
   "source": [
    "def mapping(l):\n",
    "    return {_:_.upper() for _ in l}"
   ]
  },
  {
   "cell_type": "code",
   "execution_count": 23,
   "metadata": {},
   "outputs": [
    {
     "data": {
      "text/plain": [
       "{'p': 'P', 's': 'S'}"
      ]
     },
     "metadata": {},
     "output_type": "display_data"
    },
    {
     "data": {
      "text/plain": [
       "{'a': 'A', 'b': 'B', 'c': 'C'}"
      ]
     },
     "metadata": {},
     "output_type": "display_data"
    },
    {
     "data": {
      "text/plain": [
       "{'a': 'A', 'v': 'V', 'y': 'Y', 'z': 'Z'}"
      ]
     },
     "metadata": {},
     "output_type": "display_data"
    }
   ],
   "source": [
    "display(mapping([\"p\", \"s\"]),# ➞ { \"p\": \"P\", \"s\": \"S\" }\n",
    "\tmapping([\"a\", \"b\", \"c\"]),# ➞ { \"a\": \"A\", \"b\": \"B\", \"c\": \"C\" }\n",
    "\tmapping([\"a\", \"v\", \"y\", \"z\"])# ➞ { \"a\": \"A\", \"v\": \"V\", \"y\": \"Y\", \"z\": \"Z\" }\n",
    ")"
   ]
  },
  {
   "cell_type": "markdown",
   "metadata": {},
   "source": [
    "### 4.\n",
    "Write a function, that replaces all vowels in a string with a specified vowel.\\\n",
    "Examples:\n",
    "\n",
    "\tvow_replace(\"apples and bananas\", \"u\"),# ➞ \"upplus und bununus\"\n",
    "\tvow_replace(\"cheese casserole\", \"o\"),# ➞ \"chooso cossorolo\"\n",
    "\tvow_replace(\"stuffed jalapeno poppers\", \"e\")# ➞ \"steffed jelepene peppers\"\n",
    "Notes:All words will be lowercase. Y is not considered a vowel."
   ]
  },
  {
   "cell_type": "code",
   "execution_count": 34,
   "metadata": {},
   "outputs": [],
   "source": [
    "def vow_replace(s,o):\n",
    "\tfor _ in ['a', 'e', 'i', 'o', 'u', 'A', 'E', 'I', 'O', 'U']:\n",
    "\t\ts=s.replace(_,o)\n",
    "\treturn s"
   ]
  },
  {
   "cell_type": "code",
   "execution_count": 35,
   "metadata": {},
   "outputs": [
    {
     "data": {
      "text/plain": [
       "'upplus und bununus'"
      ]
     },
     "metadata": {},
     "output_type": "display_data"
    },
    {
     "data": {
      "text/plain": [
       "'chooso cossorolo'"
      ]
     },
     "metadata": {},
     "output_type": "display_data"
    },
    {
     "data": {
      "text/plain": [
       "'steffed jelepene peppers'"
      ]
     },
     "metadata": {},
     "output_type": "display_data"
    }
   ],
   "source": [
    "display(vow_replace(\"apples and bananas\", \"u\"),# ➞ \"upplus und bununus\"\n",
    "\tvow_replace(\"cheese casserole\", \"o\"),# ➞ \"chooso cossorolo\"\n",
    "\tvow_replace(\"stuffed jalapeno poppers\", \"e\")# ➞ \"steffed jelepene peppers\"\n",
    ")"
   ]
  },
  {
   "cell_type": "markdown",
   "metadata": {},
   "source": [
    "### 5.\n",
    "Create a function that takes a string as input and capitalizes a letter if its ASCII code is even and returns its lower case version if its ASCII code is odd.\\\n",
    "Examples\n",
    "\n",
    "\tascii_capitalize(\"to be or not to be!\"),# ➞ \"To Be oR NoT To Be!\"\n",
    "\tascii_capitalize(\"THE LITTLE MERMAID\"),# ➞ \"THe LiTTLe meRmaiD\"\n",
    "\tascii_capitalize(\"Oh what a beautiful morning.\")# ➞ \"oH wHaT a BeauTiFuL moRNiNg.\""
   ]
  },
  {
   "cell_type": "code",
   "execution_count": 36,
   "metadata": {},
   "outputs": [],
   "source": [
    "def ascii_capitalize(s):\n",
    "\treturn \"\".join([_.upper() if ord(_)%2==0 else _.lower() for _ in s])"
   ]
  },
  {
   "cell_type": "code",
   "execution_count": 37,
   "metadata": {},
   "outputs": [
    {
     "data": {
      "text/plain": [
       "'To Be oR NoT To Be!'"
      ]
     },
     "metadata": {},
     "output_type": "display_data"
    },
    {
     "data": {
      "text/plain": [
       "'THe LiTTLe meRmaiD'"
      ]
     },
     "metadata": {},
     "output_type": "display_data"
    },
    {
     "data": {
      "text/plain": [
       "'oH wHaT a BeauTiFuL moRNiNg.'"
      ]
     },
     "metadata": {},
     "output_type": "display_data"
    }
   ],
   "source": [
    "display(ascii_capitalize(\"to be or not to be!\"),# ➞ \"To Be oR NoT To Be!\"\n",
    "\tascii_capitalize(\"THE LITTLE MERMAID\"),# ➞ \"THe LiTTLe meRmaiD\"\n",
    "\tascii_capitalize(\"Oh what a beautiful morning.\")# ➞ \"oH wHaT a BeauTiFuL moRNiNg.\"\n",
    ")"
   ]
  }
 ],
 "metadata": {
  "kernelspec": {
   "display_name": "Python 3",
   "language": "python",
   "name": "python3"
  },
  "language_info": {
   "codemirror_mode": {
    "name": "ipython",
    "version": 3
   },
   "file_extension": ".py",
   "mimetype": "text/x-python",
   "name": "python",
   "nbconvert_exporter": "python",
   "pygments_lexer": "ipython3",
   "version": "3.9.18"
  }
 },
 "nbformat": 4,
 "nbformat_minor": 2
}
