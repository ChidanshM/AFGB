{
	"cells": [
		{
			"cell_type": "markdown",
			"metadata": {},
			"source": [
				"# 01-PyBA: \n",
				"## 10"
			]
		},
		{
			"cell_type": "markdown",
			"metadata": {},
			"source": [
				"### 1. How do you distinguish between shutil.copy() and shutil.copytree()?\n",
				"| shutil.copy()  | shutil.copytree() |\n",
				"| ------------- |:-------------:|\n",
				"| copy a single file from the source to the destination | recursively copy an entire directory tree from the source to the destination |\n",
				"|  If the destination is an existing file, it will be replaced. | If the destination directory already exists, it will raise an error. |\n",
				"___\n",
				"\n",
				"\n",
				"### 2. What function is used to rename files?\n",
				"`os.rename()` function is commonly used to rename files.\n",
				"___\n",
				"\n",
				"\n",
				"### 3. What is the difference between the delete functions in the send2trash and shutil modules?\n",
				"* In `send2trash` module the delete function  moves files and directories to the trash or recycle bin instead of permanently deleting them. \n",
				"* In `shutil` module the delete functions deletes an entire files or directory tree, including all files and subdirectories.\n",
				"___\n",
				"\n",
				"\n",
				"### 4. ZipFile objects have a close() method just like File objects’ close() method. What ZipFile method is equivalent to File objects’ open() method?\n",
				"The `ZipFile()` method itself is equivalent to the `open()` method for `File` objects. When you create a `ZipFile` object, you are effectively opening a zip file.\n",
				"___\n",
				"\n",
				"\n",
				"### 5. Create a programme that searches a folder tree for files with a certain file extension (such as .pdf or .jpg). Copy these files from whatever location they are in to a new folder.\n",
				"```py\n",
				"import os\n",
				"import shutil\n",
				"\n",
				"def copy_files_by_extension(source_folder, destination_folder, extension):\n",
				"\tfor root, dirs, files in os.walk(source_folder):\n",
				"\t\tfor file in files:\n",
				"\t\t\tif file.endswith(extension):\n",
				"\t\t\t\tsource_path = os.path.join(root, file)\n",
				"\t\t\t\tdestination_path = os.path.join(destination_folder, file)\n",
				"\t\t\t\tshutil.copy(source_path, destination_path)\n",
				"```"
			]
		}
	],
	"metadata": {
		"kernelspec": {
			"display_name": "Python 3",
			"name": "python3"
		},
		"language_info": {
			"name": "python"
		}
	},
	"nbformat": 4,
	"nbformat_minor": 0
}
