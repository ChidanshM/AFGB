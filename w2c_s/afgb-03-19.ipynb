{
 "cells": [
  {
   "cell_type": "markdown",
   "metadata": {},
   "source": [
    "# 03-PyPBA:\n",
    "## 19"
   ]
  },
  {
   "cell_type": "markdown",
   "metadata": {},
   "source": [
    "### 1\n",
    "Create a function that takes a string and returns a string in which each character is repeated once. \\\n",
    "Examples\n",
    "\n",
    "\tdouble_char(\"String\") ➞ \"SSttrriinngg\"\n",
    "\tdouble_char(\"Hello World!\") ➞ \"HHeelllloo  WWoorrlldd!!\"\n",
    "\tdouble_char(\"1234!_ \") ➞ \"11223344!!__  \""
   ]
  },
  {
   "cell_type": "code",
   "execution_count": 0,
   "metadata": {},
   "outputs": [],
   "source": [
    "def double_char(s):\n",
    "\treturn ''.join([ _*2 for _ in s])"
   ]
  },
  {
   "cell_type": "code",
   "execution_count": 0,
   "metadata": {},
   "outputs": [
    {
     "data": {
      "text/plain": [
       "'SSttrriinngg'"
      ]
     },
     "metadata": {},
     "output_type": "display_data"
    },
    {
     "data": {
      "text/plain": [
       "'HHeelllloo  WWoorrlldd!!'"
      ]
     },
     "metadata": {},
     "output_type": "display_data"
    },
    {
     "data": {
      "text/plain": [
       "'11223344!!__  '"
      ]
     },
     "metadata": {},
     "output_type": "display_data"
    }
   ],
   "source": [
    "display(double_char(\"String\"),\n",
    "\tdouble_char(\"Hello World!\"),\n",
    "\tdouble_char(\"1234!_ \"))"
   ]
  },
  {
   "cell_type": "markdown",
   "metadata": {},
   "source": [
    "### 2\n",
    "Create a function that reverses a boolean value and returns the string \"boolean expected\" if another variable type is given. \\\n",
    "Examples\n",
    "\n",
    "\treverse(True) ➞ False\n",
    "\treverse(False) ➞ True\n",
    "\treverse(0) ➞ \"boolean expected\"\n",
    "\treverse(None) ➞ \"boolean expected\""
   ]
  },
  {
   "cell_type": "code",
   "execution_count": 0,
   "metadata": {},
   "outputs": [],
   "source": [
    "def reverse(value):\n",
    "    try:\n",
    "        if isinstance(value, bool):\n",
    "            return not value\n",
    "        else:\n",
    "            raise ValueError(\"boolean expected\")\n",
    "    except ValueError as e:\n",
    "        return str(e)"
   ]
  },
  {
   "cell_type": "code",
   "execution_count": 0,
   "metadata": {},
   "outputs": [
    {
     "data": {
      "text/plain": [
       "False"
      ]
     },
     "metadata": {},
     "output_type": "display_data"
    },
    {
     "data": {
      "text/plain": [
       "True"
      ]
     },
     "metadata": {},
     "output_type": "display_data"
    },
    {
     "data": {
      "text/plain": [
       "'boolean expected'"
      ]
     },
     "metadata": {},
     "output_type": "display_data"
    },
    {
     "data": {
      "text/plain": [
       "'boolean expected'"
      ]
     },
     "metadata": {},
     "output_type": "display_data"
    }
   ],
   "source": [
    "display(reverse(True),\n",
    "\treverse(False),\n",
    "\treverse(0),\n",
    "\treverse(None))"
   ]
  },
  {
   "cell_type": "markdown",
   "metadata": {},
   "source": [
    "### 3.\n",
    "Create a function that returns the thickness (in meters) of a piece of paper after folding it n number of times. The paper starts off with a thickness of 0.5mm. \\\n",
    "Examples\n",
    "\n",
    "\tnum_layers(1) ➞ \"0.001m\"\n",
    "\t# Paper folded once is 1mm (equal to 0.001m)\n",
    "\n",
    "\tnum_layers(4) ➞ \"0.008m\"\n",
    "\t# Paper folded 4 times is 8mm (equal to 0.008m)\n",
    "\n",
    "\tnum_layers(21) ➞ \"1048.576m\"\n",
    "\t# Paper folded 21 times is 1048576mm (equal to 1048.576m)"
   ]
  },
  {
   "cell_type": "code",
   "execution_count": 0,
   "metadata": {},
   "outputs": [],
   "source": [
    "def num_layers(n):\n",
    "    t = (0.5 * (2 ** n)) / 1000\n",
    "    return f'{t:.3f}m'"
   ]
  },
  {
   "cell_type": "code",
   "execution_count": 0,
   "metadata": {},
   "outputs": [
    {
     "data": {
      "text/plain": [
       "'0.001m'"
      ]
     },
     "metadata": {},
     "output_type": "display_data"
    },
    {
     "data": {
      "text/plain": [
       "'0.008m'"
      ]
     },
     "metadata": {},
     "output_type": "display_data"
    },
    {
     "data": {
      "text/plain": [
       "'1048.576m'"
      ]
     },
     "metadata": {},
     "output_type": "display_data"
    }
   ],
   "source": [
    "display(num_layers(1),\n",
    "\tnum_layers(4),\n",
    "\tnum_layers(21),)"
   ]
  },
  {
   "cell_type": "markdown",
   "metadata": {},
   "source": [
    "### 4.\n",
    "Create a function that takes a single string as argument and returns an ordered list containing the indices of all capital letters in the string.\\\n",
    "Examples\n",
    "\n",
    "\tindex_of_caps(\"eDaBiT\") ➞ [1, 3, 5]\n",
    "\tindex_of_caps(\"eQuINoX\") ➞ [1, 3, 4, 6]\n",
    "\tindex_of_caps_re_re_re_re_re_re_re_re_re_re_re_re_re_re(\"determine\") ➞ []\n",
    "\tindex_of_caps(\"STRIKE\") ➞ [0, 1, 2, 3, 4, 5]\n",
    "\tindex_of_caps(\"sUn\") ➞ [1]"
   ]
  },
  {
   "cell_type": "code",
   "execution_count": 0,
   "metadata": {},
   "outputs": [],
   "source": [
    "import re\n",
    "def index_of_caps(s):\n",
    "    matches = re.finditer(r'[A-Z]', s)\n",
    "    return [_.start() for _ in matches]"
   ]
  },
  {
   "cell_type": "code",
   "execution_count": 0,
   "metadata": {},
   "outputs": [
    {
     "data": {
      "text/plain": [
       "[1, 3, 5]"
      ]
     },
     "metadata": {},
     "output_type": "display_data"
    },
    {
     "data": {
      "text/plain": [
       "[1, 3, 4, 6]"
      ]
     },
     "metadata": {},
     "output_type": "display_data"
    },
    {
     "data": {
      "text/plain": [
       "[]"
      ]
     },
     "metadata": {},
     "output_type": "display_data"
    },
    {
     "data": {
      "text/plain": [
       "[0, 1, 2, 3, 4, 5]"
      ]
     },
     "metadata": {},
     "output_type": "display_data"
    },
    {
     "data": {
      "text/plain": [
       "[1]"
      ]
     },
     "metadata": {},
     "output_type": "display_data"
    }
   ],
   "source": [
    "display(index_of_caps(\"eDaBiT\"),# ➞ [1, 3, 5]\n",
    "\tindex_of_caps(\"eQuINoX\"),# ➞ [1, 3, 4, 6]\n",
    "\tindex_of_caps(\"determine\"),# ➞ []\n",
    "\tindex_of_caps(\"STRIKE\"),# ➞ [0, 1, 2, 3, 4, 5]\n",
    "\tindex_of_caps(\"sUn\"))# ➞ [1])"
   ]
  },
  {
   "cell_type": "markdown",
   "metadata": {},
   "source": [
    "### 5.\n",
    "Using list comprehensions, create a function that finds all even numbers from 1 to the given number.\\\n",
    "Examples\n",
    "\n",
    "\tfind_even_nums(8) ➞ [2, 4, 6, 8]\n",
    "\tfind_even_nums(4) ➞ [2, 4]\n",
    "\tfind_even_nums(2) ➞ [2]"
   ]
  },
  {
   "cell_type": "code",
   "execution_count": 0,
   "metadata": {},
   "outputs": [],
   "source": [
    "def find_even_nums(n):\n",
    "    return list(range(0,n+1,2))[1:]"
   ]
  },
  {
   "cell_type": "code",
   "execution_count": 0,
   "metadata": {},
   "outputs": [
    {
     "data": {
      "text/plain": [
       "[2, 4, 6, 8]"
      ]
     },
     "metadata": {},
     "output_type": "display_data"
    },
    {
     "data": {
      "text/plain": [
       "[2, 4]"
      ]
     },
     "metadata": {},
     "output_type": "display_data"
    },
    {
     "data": {
      "text/plain": [
       "[2]"
      ]
     },
     "metadata": {},
     "output_type": "display_data"
    }
   ],
   "source": [
    "display(find_even_nums(8),# ➞ [2, 4, 6, 8]\n",
    "\tfind_even_nums(4),# ➞ [2, 4]\n",
    "\tfind_even_nums(2)# ➞ [2]\n",
    "\t)"
   ]
  }
 ],
 "metadata": {
  "kernelspec": {
   "display_name": "Python 3",
   "language": "python",
   "name": "python3"
  },
  "language_info": {
   "codemirror_mode": {
    "name": "ipython",
    "version": 3
   },
   "file_extension": ".py",
   "mimetype": "text/x-python",
   "name": "python",
   "nbconvert_exporter": "python",
   "pygments_lexer": "ipython3",
   "version": "3.9.18"
  }
 },
 "nbformat": 4,
 "nbformat_minor": 2
}
