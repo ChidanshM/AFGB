{
 "cells": [
  {
   "cell_type": "markdown",
   "metadata": {},
   "source": [
    "# 03-PyPBA:\n",
    "## 23"
   ]
  },
  {
   "cell_type": "markdown",
   "metadata": {},
   "source": [
    "### 1.\n",
    "Create a function that takes a number as an argument and returns True or False depending on whether the number is symmetrical or not. A number is symmetrical when it is the same as its reverse.\\\n",
    "Examples\n",
    "\n",
    "\tis_symmetrical(7227) ➞ True\n",
    "\tis_symmetrical(12567) ➞ False\n",
    "\tis_symmetrical(44444444) ➞ True\n",
    "\tis_symmetrical(9939) ➞ False\n",
    "\tis_symmetrical(1112111) ➞ True"
   ]
  },
  {
   "cell_type": "code",
   "execution_count": 0,
   "metadata": {},
   "outputs": [],
   "source": [
    "def is_symmetrical(n):\n",
    "\tn=list(str(n))\n",
    "\treturn n==n[::-1]"
   ]
  },
  {
   "cell_type": "code",
   "execution_count": 0,
   "metadata": {},
   "outputs": [
    {
     "data": {
      "text/plain": [
       "True"
      ]
     },
     "metadata": {},
     "output_type": "display_data"
    },
    {
     "data": {
      "text/plain": [
       "False"
      ]
     },
     "metadata": {},
     "output_type": "display_data"
    },
    {
     "data": {
      "text/plain": [
       "True"
      ]
     },
     "metadata": {},
     "output_type": "display_data"
    },
    {
     "data": {
      "text/plain": [
       "False"
      ]
     },
     "metadata": {},
     "output_type": "display_data"
    },
    {
     "data": {
      "text/plain": [
       "True"
      ]
     },
     "metadata": {},
     "output_type": "display_data"
    }
   ],
   "source": [
    "display(is_symmetrical(7227),\n",
    "\tis_symmetrical(12567),\n",
    "\tis_symmetrical(44444444),\n",
    "\tis_symmetrical(9939),\n",
    "\tis_symmetrical(1112111))"
   ]
  },
  {
   "cell_type": "markdown",
   "metadata": {},
   "source": [
    "### 2.\n",
    "Given a string of numbers separated by a comma and space, return the product of the numbers\\\n",
    "Examples\n",
    "\n",
    "\tmultiply_nums(\"2, 3\") ➞ 6\n",
    "\tmultiply_nums(\"1, 2, 3, 4\") ➞ 24\n",
    "\tmultiply_nums(\"54, 75, 453, 0\") ➞ 0\n",
    "\tmultiply_nums(\"10, -2\") ➞ -20"
   ]
  },
  {
   "cell_type": "code",
   "execution_count": 0,
   "metadata": {},
   "outputs": [],
   "source": [
    "def multiply_nums(s):\n",
    "    return eval(s.replace(', ','*'))"
   ]
  },
  {
   "cell_type": "code",
   "execution_count": 0,
   "metadata": {},
   "outputs": [
    {
     "data": {
      "text/plain": [
       "6"
      ]
     },
     "metadata": {},
     "output_type": "display_data"
    },
    {
     "data": {
      "text/plain": [
       "24"
      ]
     },
     "metadata": {},
     "output_type": "display_data"
    },
    {
     "data": {
      "text/plain": [
       "0"
      ]
     },
     "metadata": {},
     "output_type": "display_data"
    },
    {
     "data": {
      "text/plain": [
       "-20"
      ]
     },
     "metadata": {},
     "output_type": "display_data"
    }
   ],
   "source": [
    "display(multiply_nums(\"2, 3\"),\n",
    "\tmultiply_nums(\"1, 2, 3, 4\"),\n",
    "\tmultiply_nums(\"54, 75, 453, 0\"),\n",
    "\tmultiply_nums(\"10, -2\")\n",
    ")"
   ]
  },
  {
   "cell_type": "markdown",
   "metadata": {},
   "source": [
    "### 3\n",
    "Create a function that squares every digit of a number.\\\n",
    "Examples\n",
    "\n",
    "\tsquare_digits(9119) ➞ 811181\n",
    "\tsquare_digits(2483) ➞ 416649\n",
    "\tsquare_digits(3212) ➞ 9414\n",
    "\n",
    "Notes\n",
    "The function receives an integer and must return an integer."
   ]
  },
  {
   "cell_type": "code",
   "execution_count": null,
   "metadata": {},
   "outputs": [],
   "source": [
    "digits = [int(digit) for digit in str(number)]\n",
    "squared_digits = int(''.join(str(digit**2) for digit in digits))"
   ]
  },
  {
   "cell_type": "code",
   "execution_count": 0,
   "metadata": {},
   "outputs": [],
   "source": [
    "def square_digits(n):\n",
    "    return int(''.join(list(map(str,list(map(lambda x: eval((x+\"**2\")),list(str(n))))))))"
   ]
  },
  {
   "cell_type": "code",
   "execution_count": 0,
   "metadata": {},
   "outputs": [
    {
     "data": {
      "text/plain": [
       "811181"
      ]
     },
     "metadata": {},
     "output_type": "display_data"
    },
    {
     "data": {
      "text/plain": [
       "416649"
      ]
     },
     "metadata": {},
     "output_type": "display_data"
    },
    {
     "data": {
      "text/plain": [
       "9414"
      ]
     },
     "metadata": {},
     "output_type": "display_data"
    }
   ],
   "source": [
    "display(square_digits(9119),\n",
    "\tsquare_digits(2483),\n",
    "\tsquare_digits(3212))"
   ]
  },
  {
   "cell_type": "markdown",
   "metadata": {},
   "source": [
    "### 4\n",
    "Create a function that sorts a list and removes all duplicate items from it.\\\n",
    "Examples\n",
    "\n",
    "\tsetify([1, 3, 3, 5, 5]) ➞ [1, 3, 5]\n",
    "\tsetify([4, 4, 4, 4]) ➞ [4]\n",
    "\tsetify([5, 7, 8, 9, 10, 15]) ➞ [5, 7, 8, 9, 10, 15]\n",
    "\tsetify([3, 3, 3, 2, 1]) ➞ [1, 2, 3]"
   ]
  },
  {
   "cell_type": "code",
   "execution_count": 0,
   "metadata": {},
   "outputs": [],
   "source": [
    "def setify(l):\n",
    "\treturn sorted(set(l))"
   ]
  },
  {
   "cell_type": "code",
   "execution_count": 0,
   "metadata": {},
   "outputs": [
    {
     "data": {
      "text/plain": [
       "[1, 3, 5]"
      ]
     },
     "metadata": {},
     "output_type": "display_data"
    },
    {
     "data": {
      "text/plain": [
       "[4]"
      ]
     },
     "metadata": {},
     "output_type": "display_data"
    },
    {
     "data": {
      "text/plain": [
       "[5, 7, 8, 9, 10, 15]"
      ]
     },
     "metadata": {},
     "output_type": "display_data"
    },
    {
     "data": {
      "text/plain": [
       "[1, 2, 3]"
      ]
     },
     "metadata": {},
     "output_type": "display_data"
    }
   ],
   "source": [
    "display(setify([1, 3, 3, 5, 5]),\n",
    "\tsetify([4, 4, 4, 4]),\n",
    "\tsetify([5, 7, 8, 9, 10, 15]),\n",
    "\tsetify([3, 3, 3, 2, 1]))"
   ]
  },
  {
   "cell_type": "markdown",
   "metadata": {},
   "source": [
    "### 5\n",
    "Create a function that returns the mean of all digits.\\\n",
    "Examples\n",
    "\n",
    "\tmean(42) ➞ 3\n",
    "\tmean(12345) ➞ 3\n",
    "\tmean(666) ➞ 6\n",
    "\n",
    "Notes\\\n",
    "The mean of all digits is the sum of digits / how many digits there are (e.g. mean of digits in 512 is (5+1+2)/3(number of digits) = 8/3=2).\n",
    "The mean will always be an integer."
   ]
  },
  {
   "cell_type": "code",
   "execution_count": 0,
   "metadata": {},
   "outputs": [],
   "source": [
    "def mean(n):\n",
    "\tl=list(str(n))\n",
    "\treturn eval('+'.join(l))//len(l)"
   ]
  },
  {
   "cell_type": "code",
   "execution_count": 0,
   "metadata": {},
   "outputs": [
    {
     "data": {
      "text/plain": [
       "3"
      ]
     },
     "metadata": {},
     "output_type": "display_data"
    },
    {
     "data": {
      "text/plain": [
       "3"
      ]
     },
     "metadata": {},
     "output_type": "display_data"
    },
    {
     "data": {
      "text/plain": [
       "6"
      ]
     },
     "metadata": {},
     "output_type": "display_data"
    }
   ],
   "source": [
    "display(mean(42),\n",
    "\tmean(12345),\n",
    "\tmean(666))"
   ]
  }
 ],
 "metadata": {
  "kernelspec": {
   "display_name": "Python 3",
   "language": "python",
   "name": "python3"
  },
  "language_info": {
   "codemirror_mode": {
    "name": "ipython",
    "version": 3
   },
   "file_extension": ".py",
   "mimetype": "text/x-python",
   "name": "python",
   "nbconvert_exporter": "python",
   "pygments_lexer": "ipython3",
   "version": "3.9.18"
  }
 },
 "nbformat": 4,
 "nbformat_minor": 2
}
